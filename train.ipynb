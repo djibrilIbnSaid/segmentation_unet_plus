{
 "cells": [
  {
   "cell_type": "markdown",
   "metadata": {},
   "source": [
    "## Entrenement du modele"
   ]
  },
  {
   "cell_type": "code",
   "execution_count": 1,
   "metadata": {},
   "outputs": [
    {
     "name": "stderr",
     "output_type": "stream",
     "text": [
      "2023-12-01 02:00:53.829517: I tensorflow/core/platform/cpu_feature_guard.cc:182] This TensorFlow binary is optimized to use available CPU instructions in performance-critical operations.\n",
      "To enable the following instructions: AVX2 AVX512F AVX512_VNNI FMA, in other operations, rebuild TensorFlow with the appropriate compiler flags.\n"
     ]
    }
   ],
   "source": [
    "import unet_plus as upp\n",
    "import utils as uts"
   ]
  },
  {
   "cell_type": "code",
   "execution_count": 2,
   "metadata": {},
   "outputs": [
    {
     "name": "stdout",
     "output_type": "stream",
     "text": [
      "Model: \"model\"\n",
      "__________________________________________________________________________________________________\n",
      " Layer (type)                Output Shape                 Param #   Connected to                  \n",
      "==================================================================================================\n",
      " input_1 (InputLayer)        [(None, 256, 256, 3)]        0         []                            \n",
      "                                                                                                  \n",
      " conv2d (Conv2D)             (None, 256, 256, 64)         1792      ['input_1[0][0]']             \n",
      "                                                                                                  \n",
      " max_pooling2d (MaxPooling2  (None, 128, 128, 64)         0         ['conv2d[0][0]']              \n",
      " D)                                                                                               \n",
      "                                                                                                  \n",
      " conv2d_1 (Conv2D)           (None, 128, 128, 128)        73856     ['max_pooling2d[0][0]']       \n",
      "                                                                                                  \n",
      " max_pooling2d_1 (MaxPoolin  (None, 64, 64, 128)          0         ['conv2d_1[0][0]']            \n",
      " g2D)                                                                                             \n",
      "                                                                                                  \n",
      " conv2d_2 (Conv2D)           (None, 64, 64, 256)          295168    ['max_pooling2d_1[0][0]']     \n",
      "                                                                                                  \n",
      " max_pooling2d_2 (MaxPoolin  (None, 32, 32, 256)          0         ['conv2d_2[0][0]']            \n",
      " g2D)                                                                                             \n",
      "                                                                                                  \n",
      " conv2d_3 (Conv2D)           (None, 32, 32, 512)          1180160   ['max_pooling2d_2[0][0]']     \n",
      "                                                                                                  \n",
      " max_pooling2d_3 (MaxPoolin  (None, 16, 16, 512)          0         ['conv2d_3[0][0]']            \n",
      " g2D)                                                                                             \n",
      "                                                                                                  \n",
      " conv2d_4 (Conv2D)           (None, 16, 16, 1024)         4719616   ['max_pooling2d_3[0][0]']     \n",
      "                                                                                                  \n",
      " up_sampling2d_6 (UpSamplin  (None, 32, 32, 1024)         0         ['conv2d_4[0][0]']            \n",
      " g2D)                                                                                             \n",
      "                                                                                                  \n",
      " concatenate_6 (Concatenate  (None, 32, 32, 1536)         0         ['up_sampling2d_6[0][0]',     \n",
      " )                                                                   'conv2d_3[0][0]']            \n",
      "                                                                                                  \n",
      " up_sampling2d_2 (UpSamplin  (None, 64, 64, 512)          0         ['conv2d_3[0][0]']            \n",
      " g2D)                                                                                             \n",
      "                                                                                                  \n",
      " conv2d_11 (Conv2D)          (None, 32, 32, 512)          7078400   ['concatenate_6[0][0]']       \n",
      "                                                                                                  \n",
      " concatenate_2 (Concatenate  (None, 64, 64, 768)          0         ['up_sampling2d_2[0][0]',     \n",
      " )                                                                   'conv2d_2[0][0]']            \n",
      "                                                                                                  \n",
      " up_sampling2d_1 (UpSamplin  (None, 128, 128, 256)        0         ['conv2d_2[0][0]']            \n",
      " g2D)                                                                                             \n",
      "                                                                                                  \n",
      " up_sampling2d_7 (UpSamplin  (None, 64, 64, 512)          0         ['conv2d_11[0][0]']           \n",
      " g2D)                                                                                             \n",
      "                                                                                                  \n",
      " conv2d_7 (Conv2D)           (None, 64, 64, 256)          1769728   ['concatenate_2[0][0]']       \n",
      "                                                                                                  \n",
      " concatenate_1 (Concatenate  (None, 128, 128, 384)        0         ['up_sampling2d_1[0][0]',     \n",
      " )                                                                   'conv2d_1[0][0]']            \n",
      "                                                                                                  \n",
      " up_sampling2d (UpSampling2  (None, 256, 256, 128)        0         ['conv2d_1[0][0]']            \n",
      " D)                                                                                               \n",
      "                                                                                                  \n",
      " concatenate_7 (Concatenate  (None, 64, 64, 1024)         0         ['up_sampling2d_7[0][0]',     \n",
      " )                                                                   'conv2d_2[0][0]',            \n",
      "                                                                     'conv2d_7[0][0]']            \n",
      "                                                                                                  \n",
      " conv2d_6 (Conv2D)           (None, 128, 128, 128)        442496    ['concatenate_1[0][0]']       \n",
      "                                                                                                  \n",
      " up_sampling2d_4 (UpSamplin  (None, 128, 128, 256)        0         ['conv2d_7[0][0]']            \n",
      " g2D)                                                                                             \n",
      "                                                                                                  \n",
      " concatenate (Concatenate)   (None, 256, 256, 192)        0         ['up_sampling2d[0][0]',       \n",
      "                                                                     'conv2d[0][0]']              \n",
      "                                                                                                  \n",
      " conv2d_12 (Conv2D)          (None, 64, 64, 256)          2359552   ['concatenate_7[0][0]']       \n",
      "                                                                                                  \n",
      " concatenate_4 (Concatenate  (None, 128, 128, 512)        0         ['up_sampling2d_4[0][0]',     \n",
      " )                                                                   'conv2d_1[0][0]',            \n",
      "                                                                     'conv2d_6[0][0]']            \n",
      "                                                                                                  \n",
      " conv2d_5 (Conv2D)           (None, 256, 256, 64)         110656    ['concatenate[0][0]']         \n",
      "                                                                                                  \n",
      " up_sampling2d_3 (UpSamplin  (None, 256, 256, 128)        0         ['conv2d_6[0][0]']            \n",
      " g2D)                                                                                             \n",
      "                                                                                                  \n",
      " up_sampling2d_8 (UpSamplin  (None, 128, 128, 256)        0         ['conv2d_12[0][0]']           \n",
      " g2D)                                                                                             \n",
      "                                                                                                  \n",
      " conv2d_9 (Conv2D)           (None, 128, 128, 128)        589952    ['concatenate_4[0][0]']       \n",
      "                                                                                                  \n",
      " concatenate_3 (Concatenate  (None, 256, 256, 256)        0         ['up_sampling2d_3[0][0]',     \n",
      " )                                                                   'conv2d[0][0]',              \n",
      "                                                                     'conv2d_5[0][0]']            \n",
      "                                                                                                  \n",
      " concatenate_8 (Concatenate  (None, 128, 128, 640)        0         ['up_sampling2d_8[0][0]',     \n",
      " )                                                                   'conv2d_1[0][0]',            \n",
      "                                                                     'conv2d_6[0][0]',            \n",
      "                                                                     'conv2d_9[0][0]']            \n",
      "                                                                                                  \n",
      " conv2d_8 (Conv2D)           (None, 256, 256, 64)         147520    ['concatenate_3[0][0]']       \n",
      "                                                                                                  \n",
      " up_sampling2d_5 (UpSamplin  (None, 256, 256, 128)        0         ['conv2d_9[0][0]']            \n",
      " g2D)                                                                                             \n",
      "                                                                                                  \n",
      " conv2d_13 (Conv2D)          (None, 128, 128, 128)        737408    ['concatenate_8[0][0]']       \n",
      "                                                                                                  \n",
      " concatenate_5 (Concatenate  (None, 256, 256, 320)        0         ['up_sampling2d_5[0][0]',     \n",
      " )                                                                   'conv2d[0][0]',              \n",
      "                                                                     'conv2d_5[0][0]',            \n",
      "                                                                     'conv2d_8[0][0]']            \n",
      "                                                                                                  \n",
      " up_sampling2d_9 (UpSamplin  (None, 256, 256, 128)        0         ['conv2d_13[0][0]']           \n",
      " g2D)                                                                                             \n",
      "                                                                                                  \n",
      " conv2d_10 (Conv2D)          (None, 256, 256, 64)         184384    ['concatenate_5[0][0]']       \n",
      "                                                                                                  \n",
      " concatenate_9 (Concatenate  (None, 256, 256, 384)        0         ['up_sampling2d_9[0][0]',     \n",
      " )                                                                   'conv2d[0][0]',              \n",
      "                                                                     'conv2d_5[0][0]',            \n",
      "                                                                     'conv2d_8[0][0]',            \n",
      "                                                                     'conv2d_10[0][0]']           \n",
      "                                                                                                  \n",
      " conv2d_14 (Conv2D)          (None, 256, 256, 64)         221248    ['concatenate_9[0][0]']       \n",
      "                                                                                                  \n",
      " conv2d_15 (Conv2D)          (None, 256, 256, 1)          65        ['conv2d_14[0][0]']           \n",
      "                                                                                                  \n",
      "==================================================================================================\n",
      "Total params: 19912001 (75.96 MB)\n",
      "Trainable params: 19912001 (75.96 MB)\n",
      "Non-trainable params: 0 (0.00 Byte)\n",
      "__________________________________________________________________________________________________\n"
     ]
    }
   ],
   "source": [
    "model = upp.build_unet()\n",
    "model.summary()"
   ]
  },
  {
   "cell_type": "code",
   "execution_count": 3,
   "metadata": {},
   "outputs": [],
   "source": [
    "model.compile(optimizer='rmsprop', loss='binary_crossentropy', metrics=['accuracy'])"
   ]
  },
  {
   "cell_type": "code",
   "execution_count": 4,
   "metadata": {},
   "outputs": [
    {
     "ename": "ValueError",
     "evalue": "setting an array element with a sequence. The requested array has an inhomogeneous shape after 1 dimensions. The detected shape was (470,) + inhomogeneous part.",
     "output_type": "error",
     "traceback": [
      "\u001b[0;31m---------------------------------------------------------------------------\u001b[0m",
      "\u001b[0;31mValueError\u001b[0m                                Traceback (most recent call last)",
      "\u001b[1;32m/Users/MyMac/Documents/univReims/M1/1/DeepLearning/project/segmentation_unet_plus/train.ipynb Cellule 5\u001b[0m line \u001b[0;36m2\n\u001b[1;32m      <a href='vscode-notebook-cell:/Users/MyMac/Documents/univReims/M1/1/DeepLearning/project/segmentation_unet_plus/train.ipynb#W4sZmlsZQ%3D%3D?line=0'>1</a>\u001b[0m images_train_folder, masks_train_folder \u001b[39m=\u001b[39m uts\u001b[39m.\u001b[39mget_image_folder(train\u001b[39m=\u001b[39m\u001b[39mTrue\u001b[39;00m, augmented\u001b[39m=\u001b[39m\u001b[39mFalse\u001b[39;00m)\n\u001b[0;32m----> <a href='vscode-notebook-cell:/Users/MyMac/Documents/univReims/M1/1/DeepLearning/project/segmentation_unet_plus/train.ipynb#W4sZmlsZQ%3D%3D?line=1'>2</a>\u001b[0m train_images, train_masks \u001b[39m=\u001b[39m uts\u001b[39m.\u001b[39;49mload_data(images_train_folder, masks_train_folder)\n",
      "File \u001b[0;32m~/Documents/univReims/M1/1/DeepLearning/project/segmentation_unet_plus/utils.py:55\u001b[0m, in \u001b[0;36mload_data\u001b[0;34m(images_folder, masks_folder)\u001b[0m\n\u001b[1;32m     53\u001b[0m         mask \u001b[39m=\u001b[39m cv2\u001b[39m.\u001b[39mimread(mask_path)\n\u001b[1;32m     54\u001b[0m         masks\u001b[39m.\u001b[39mappend(mask)\n\u001b[0;32m---> 55\u001b[0m \u001b[39mreturn\u001b[39;00m np\u001b[39m.\u001b[39;49marray(images), np\u001b[39m.\u001b[39marray(masks)\n",
      "\u001b[0;31mValueError\u001b[0m: setting an array element with a sequence. The requested array has an inhomogeneous shape after 1 dimensions. The detected shape was (470,) + inhomogeneous part."
     ]
    }
   ],
   "source": [
    "images_train_folder, masks_train_folder = uts.get_image_folder(train=True, augmented=False)\n",
    "train_images, train_masks = uts.load_data(images_train_folder, masks_train_folder)"
   ]
  },
  {
   "cell_type": "code",
   "execution_count": null,
   "metadata": {},
   "outputs": [],
   "source": []
  }
 ],
 "metadata": {
  "kernelspec": {
   "display_name": "segmentation_unet_plus",
   "language": "python",
   "name": "python3"
  },
  "language_info": {
   "codemirror_mode": {
    "name": "ipython",
    "version": 3
   },
   "file_extension": ".py",
   "mimetype": "text/x-python",
   "name": "python",
   "nbconvert_exporter": "python",
   "pygments_lexer": "ipython3",
   "version": "3.10.13"
  }
 },
 "nbformat": 4,
 "nbformat_minor": 2
}
